{
 "cells": [
  {
   "cell_type": "markdown",
   "metadata": {},
   "source": [
    "# Princeton House Prices and Ethnicity\n",
    "By Brandon Feder and Atticus Wang"
   ]
  },
  {
   "cell_type": "markdown",
   "metadata": {},
   "source": [
    "# Introduction"
   ]
  },
  {
   "cell_type": "markdown",
   "metadata": {},
   "source": [
    "Princeton has many diverse houses ranging in size, location, age, and many other factors. With this comes a huge range of house prices. But how do the characteristics of a house determine it's price? This our research question: **\"How do factors such as the number of bathrooms, location, year built, and number of bathrooms effect the price of the house?\"**\n",
    "\n",
    "Beatrice Bloom, a Princeton Residential Specialist, provides many great resources about the Princeton housing market including a table of houses sold in Princeton since 2011. This data can be found [here](https://www.realestate-princeton.com/market-analysis/princeton-pending/). We indented to use this data to answer our question.\n",
    "\n",
    "We also hope to use [US census data](https://www.census.gov/data.html) about the income, ethnicity, and age of people in different areas of Princeton to help in our prediction.\n",
    "\n",
    "Based off our own experience, we predict that neighborhood/address and year built have a significant impact on the price of the house. In addition, we believe that the ethnicity and income of the residents of the neighborhood the houses reside will be good predictors of the house's price."
   ]
  },
  {
   "cell_type": "markdown",
   "metadata": {},
   "source": [
    "# Analysis Plan"
   ]
  },
  {
   "cell_type": "markdown",
   "metadata": {},
   "source": [
    "### Variables\n",
    "The response variable in our analysis will be the price of a house in dollars.\n",
    "\n",
    "The predictors will include location, number of bedrooms, number of full bathrooms, number of half\n",
    "bathrooms, style, year built, parking-lot size, and previous selling price.\n",
    "\n",
    "Some other relevant variables include the number of days on the market and data about the human population in the area of town the houses resides (such as age,\n",
    "race/ethnicity, income, etc).\n",
    "\n",
    "### Analysis Plan\n",
    "\n",
    "First, we will tidy up the Princeton real estate market dataset, and extract US census data pertaining to age, race/ethnicity, income, and other variables in the Princeton area on the level of census blocks. We will then analyze the correlation between house prices and resident race and ethnicity, and potentially other correlations.\n",
    "\n",
    "Next, we will build a linear model using a part of the data set with house prices as the response variable. Because there are many potential predictors, we will use the step function to select the best model. Then, for the rest of the dataset, we will predict house prices using the chosen predictors and compare our predictions with actual house prices. Finally, we will study why the model differs from real data, and whether there are temporal trends to house prices.\n",
    "\n",
    "### Preliminary Analysis\n"
   ]
  },
  {
   "cell_type": "markdown",
   "metadata": {},
   "source": [
    "#### Load required libraries"
   ]
  },
  {
   "cell_type": "code",
   "execution_count": 4,
   "metadata": {
    "vscode": {
     "languageId": "r"
    }
   },
   "outputs": [
    {
     "name": "stderr",
     "output_type": "stream",
     "text": [
      "Installing package into ‘/mnt/MainStorage/bfeder/R/x86_64-pc-linux-gnu-library/4.0’\n",
      "(as ‘lib’ is unspecified)\n",
      "\n",
      "── \u001b[1mAttaching packages\u001b[22m ─────────────────────────────────────── tidyverse 1.3.1 ──\n",
      "\n",
      "\u001b[32m✔\u001b[39m \u001b[34mggplot2\u001b[39m 3.3.5     \u001b[32m✔\u001b[39m \u001b[34mpurrr  \u001b[39m 0.3.4\n",
      "\u001b[32m✔\u001b[39m \u001b[34mtibble \u001b[39m 3.1.6     \u001b[32m✔\u001b[39m \u001b[34mdplyr  \u001b[39m 1.0.7\n",
      "\u001b[32m✔\u001b[39m \u001b[34mtidyr  \u001b[39m 1.1.4     \u001b[32m✔\u001b[39m \u001b[34mstringr\u001b[39m 1.4.0\n",
      "\u001b[32m✔\u001b[39m \u001b[34mreadr  \u001b[39m 2.1.1     \u001b[32m✔\u001b[39m \u001b[34mforcats\u001b[39m 0.5.1\n",
      "\n",
      "── \u001b[1mConflicts\u001b[22m ────────────────────────────────────────── tidyverse_conflicts() ──\n",
      "\u001b[31m✖\u001b[39m \u001b[34mdplyr\u001b[39m::\u001b[32mfilter()\u001b[39m masks \u001b[34mstats\u001b[39m::filter()\n",
      "\u001b[31m✖\u001b[39m \u001b[34mdplyr\u001b[39m::\u001b[32mlag()\u001b[39m    masks \u001b[34mstats\u001b[39m::lag()\n",
      "\n"
     ]
    }
   ],
   "source": [
    "install.packages(\"tidyverse\")\n",
    "library(tidyverse)"
   ]
  },
  {
   "cell_type": "markdown",
   "metadata": {},
   "source": [
    "#### Load raw housing data"
   ]
  },
  {
   "cell_type": "code",
   "execution_count": 5,
   "metadata": {
    "vscode": {
     "languageId": "r"
    }
   },
   "outputs": [],
   "source": [
    "house <- read.csv(\"./data/pton-market-data.csv\")"
   ]
  },
  {
   "cell_type": "markdown",
   "metadata": {},
   "source": [
    "#### Format price column"
   ]
  },
  {
   "cell_type": "code",
   "execution_count": 6,
   "metadata": {
    "vscode": {
     "languageId": "r"
    }
   },
   "outputs": [],
   "source": [
    "house <- house %>% \n",
    "mutate(Price = strtoi(str_replace_all(str_sub(Sold.Price, 2, -4), \",\", \"\")))"
   ]
  },
  {
   "cell_type": "markdown",
   "metadata": {},
   "source": [
    "#### Calculate top 10 most expensive neighborhoods (on average)"
   ]
  },
  {
   "cell_type": "code",
   "execution_count": 7,
   "metadata": {
    "vscode": {
     "languageId": "r"
    }
   },
   "outputs": [
    {
     "data": {
      "text/html": [
       "<table class=\"dataframe\">\n",
       "<caption>A tibble: 10 × 2</caption>\n",
       "<thead>\n",
       "\t<tr><th scope=col>Neighborhood</th><th scope=col>meanPrice</th></tr>\n",
       "\t<tr><th scope=col>&lt;chr&gt;</th><th scope=col>&lt;dbl&gt;</th></tr>\n",
       "</thead>\n",
       "<tbody>\n",
       "\t<tr><td>The Preserve     </td><td>2150000.0</td></tr>\n",
       "\t<tr><td>Carnegie Lake    </td><td>1645562.5</td></tr>\n",
       "\t<tr><td>Battelfield Area </td><td>1350950.0</td></tr>\n",
       "\t<tr><td>Institute        </td><td>1338176.6</td></tr>\n",
       "\t<tr><td>Pretty Brook Area</td><td>1312639.5</td></tr>\n",
       "\t<tr><td>princeton Ridge  </td><td> 970000.0</td></tr>\n",
       "\t<tr><td>Western Section  </td><td> 897657.4</td></tr>\n",
       "\t<tr><td>The Glen         </td><td> 883113.5</td></tr>\n",
       "\t<tr><td>Hun Area         </td><td> 862042.5</td></tr>\n",
       "\t<tr><td>Institute Area   </td><td> 831696.7</td></tr>\n",
       "</tbody>\n",
       "</table>\n"
      ],
      "text/latex": [
       "A tibble: 10 × 2\n",
       "\\begin{tabular}{ll}\n",
       " Neighborhood & meanPrice\\\\\n",
       " <chr> & <dbl>\\\\\n",
       "\\hline\n",
       "\t The Preserve      & 2150000.0\\\\\n",
       "\t Carnegie Lake     & 1645562.5\\\\\n",
       "\t Battelfield Area  & 1350950.0\\\\\n",
       "\t Institute         & 1338176.6\\\\\n",
       "\t Pretty Brook Area & 1312639.5\\\\\n",
       "\t princeton Ridge   &  970000.0\\\\\n",
       "\t Western Section   &  897657.4\\\\\n",
       "\t The Glen          &  883113.5\\\\\n",
       "\t Hun Area          &  862042.5\\\\\n",
       "\t Institute Area    &  831696.7\\\\\n",
       "\\end{tabular}\n"
      ],
      "text/markdown": [
       "\n",
       "A tibble: 10 × 2\n",
       "\n",
       "| Neighborhood &lt;chr&gt; | meanPrice &lt;dbl&gt; |\n",
       "|---|---|\n",
       "| The Preserve      | 2150000.0 |\n",
       "| Carnegie Lake     | 1645562.5 |\n",
       "| Battelfield Area  | 1350950.0 |\n",
       "| Institute         | 1338176.6 |\n",
       "| Pretty Brook Area | 1312639.5 |\n",
       "| princeton Ridge   |  970000.0 |\n",
       "| Western Section   |  897657.4 |\n",
       "| The Glen          |  883113.5 |\n",
       "| Hun Area          |  862042.5 |\n",
       "| Institute Area    |  831696.7 |\n",
       "\n"
      ],
      "text/plain": [
       "   Neighborhood      meanPrice\n",
       "1  The Preserve      2150000.0\n",
       "2  Carnegie Lake     1645562.5\n",
       "3  Battelfield Area  1350950.0\n",
       "4  Institute         1338176.6\n",
       "5  Pretty Brook Area 1312639.5\n",
       "6  princeton Ridge    970000.0\n",
       "7  Western Section    897657.4\n",
       "8  The Glen           883113.5\n",
       "9  Hun Area           862042.5\n",
       "10 Institute Area     831696.7"
      ]
     },
     "metadata": {},
     "output_type": "display_data"
    }
   ],
   "source": [
    "house %>%\n",
    "group_by(Neighborhood) %>%\n",
    "summarise(meanPrice = mean(Price, na.rm = TRUE)) %>%\n",
    "arrange(desc(meanPrice)) %>%\n",
    "head(10)"
   ]
  },
  {
   "cell_type": "markdown",
   "metadata": {},
   "source": [
    "#### Calculate top 10 most expensive neighborhoods (on average)"
   ]
  },
  {
   "cell_type": "code",
   "execution_count": 8,
   "metadata": {
    "vscode": {
     "languageId": "r"
    }
   },
   "outputs": [
    {
     "data": {
      "text/html": [
       "<table class=\"dataframe\">\n",
       "<caption>A tibble: 10 × 2</caption>\n",
       "<thead>\n",
       "\t<tr><th scope=col>Address</th><th scope=col>meanPrice</th></tr>\n",
       "\t<tr><th scope=col>&lt;chr&gt;</th><th scope=col>&lt;dbl&gt;</th></tr>\n",
       "</thead>\n",
       "<tbody>\n",
       "\t<tr><td>Garrett Ln      </td><td>2695000</td></tr>\n",
       "\t<tr><td>Pheasant Hil Rd </td><td>2610000</td></tr>\n",
       "\t<tr><td>Libary Pl       </td><td>2476938</td></tr>\n",
       "\t<tr><td>Fredrick Ct     </td><td>2290000</td></tr>\n",
       "\t<tr><td>Bogart Ct       </td><td>2213125</td></tr>\n",
       "\t<tr><td>Cradle Rock Rd  </td><td>2138000</td></tr>\n",
       "\t<tr><td>Morven Pl       </td><td>2042000</td></tr>\n",
       "\t<tr><td>Grasmere Way    </td><td>2031250</td></tr>\n",
       "\t<tr><td>Running Cedar Rd</td><td>1967458</td></tr>\n",
       "\t<tr><td>Province Line   </td><td>1950000</td></tr>\n",
       "</tbody>\n",
       "</table>\n"
      ],
      "text/latex": [
       "A tibble: 10 × 2\n",
       "\\begin{tabular}{ll}\n",
       " Address & meanPrice\\\\\n",
       " <chr> & <dbl>\\\\\n",
       "\\hline\n",
       "\t Garrett Ln       & 2695000\\\\\n",
       "\t Pheasant Hil Rd  & 2610000\\\\\n",
       "\t Libary Pl        & 2476938\\\\\n",
       "\t Fredrick Ct      & 2290000\\\\\n",
       "\t Bogart Ct        & 2213125\\\\\n",
       "\t Cradle Rock Rd   & 2138000\\\\\n",
       "\t Morven Pl        & 2042000\\\\\n",
       "\t Grasmere Way     & 2031250\\\\\n",
       "\t Running Cedar Rd & 1967458\\\\\n",
       "\t Province Line    & 1950000\\\\\n",
       "\\end{tabular}\n"
      ],
      "text/markdown": [
       "\n",
       "A tibble: 10 × 2\n",
       "\n",
       "| Address &lt;chr&gt; | meanPrice &lt;dbl&gt; |\n",
       "|---|---|\n",
       "| Garrett Ln       | 2695000 |\n",
       "| Pheasant Hil Rd  | 2610000 |\n",
       "| Libary Pl        | 2476938 |\n",
       "| Fredrick Ct      | 2290000 |\n",
       "| Bogart Ct        | 2213125 |\n",
       "| Cradle Rock Rd   | 2138000 |\n",
       "| Morven Pl        | 2042000 |\n",
       "| Grasmere Way     | 2031250 |\n",
       "| Running Cedar Rd | 1967458 |\n",
       "| Province Line    | 1950000 |\n",
       "\n"
      ],
      "text/plain": [
       "   Address          meanPrice\n",
       "1  Garrett Ln       2695000  \n",
       "2  Pheasant Hil Rd  2610000  \n",
       "3  Libary Pl        2476938  \n",
       "4  Fredrick Ct      2290000  \n",
       "5  Bogart Ct        2213125  \n",
       "6  Cradle Rock Rd   2138000  \n",
       "7  Morven Pl        2042000  \n",
       "8  Grasmere Way     2031250  \n",
       "9  Running Cedar Rd 1967458  \n",
       "10 Province Line    1950000  "
      ]
     },
     "metadata": {},
     "output_type": "display_data"
    }
   ],
   "source": [
    "house %>% \n",
    "group_by(Address) %>%\n",
    "summarise(meanPrice = mean(Price, na.rm = TRUE)) %>%\n",
    "arrange(desc(meanPrice)) %>%\n",
    "head(10)"
   ]
  },
  {
   "cell_type": "markdown",
   "metadata": {},
   "source": [
    "# Data\n",
    "Here is a summary of the house price data. We were not yet able to obtain the US census data do to an issue with our API key."
   ]
  },
  {
   "cell_type": "code",
   "execution_count": 10,
   "metadata": {
    "vscode": {
     "languageId": "r"
    }
   },
   "outputs": [
    {
     "name": "stdout",
     "output_type": "stream",
     "text": [
      "Rows: 3,331\n",
      "Columns: 16\n",
      "$ X                         \u001b[3m\u001b[90m<chr>\u001b[39m\u001b[23m \"49-F\", \"44-H\", \"218\", \"12\", \"93-95\", \"58\", …\n",
      "$ Address                   \u001b[3m\u001b[90m<chr>\u001b[39m\u001b[23m \"Palmer Sq\", \"Nassau St\", \"Birch Ave\", \"Birc…\n",
      "$ Neighborhood              \u001b[3m\u001b[90m<chr>\u001b[39m\u001b[23m \"Princeton Center\", \"Princeton Center\", \"Pri…\n",
      "$ Bed.Rooms                 \u001b[3m\u001b[90m<int>\u001b[39m\u001b[23m 0, 0, 3, 3, 3, 3, 3, 3, 2, 3, 3, 3, 3, 2, 3,…\n",
      "$ Full.Baths                \u001b[3m\u001b[90m<int>\u001b[39m\u001b[23m 1, 1, 1, 1, 2, 2, 1, 2, 1, 2, 2, 2, 2, 2, 2,…\n",
      "$ Half.Baths                \u001b[3m\u001b[90m<int>\u001b[39m\u001b[23m 0, 0, 0, 0, 0, 0, 1, 0, 1, 0, 0, 0, 0, 1, 1,…\n",
      "$ Style                     \u001b[3m\u001b[90m<chr>\u001b[39m\u001b[23m \"Flat\", \"Flat\", \"Twin\", \"Twin\", \"Bungalow\", …\n",
      "$ Year.Built                \u001b[3m\u001b[90m<chr>\u001b[39m\u001b[23m \"1932\", \"1932\", \"1929\", NA, \"1940\", \"1900\", …\n",
      "$ Lot.Size                  \u001b[3m\u001b[90m<chr>\u001b[39m\u001b[23m NA, NA, NA, \"0.04\", \"0.07\", \"0.08\", \"0.11\", …\n",
      "$ Original.Price            \u001b[3m\u001b[90m<chr>\u001b[39m\u001b[23m \"$320,000.00\", \"$369,000.00\", \"$395,000.00\",…\n",
      "$ Last.Price                \u001b[3m\u001b[90m<chr>\u001b[39m\u001b[23m \"$320,000.00\", \"$329,000.00\", \"$395,000.00\",…\n",
      "$ Sold.Price                \u001b[3m\u001b[90m<chr>\u001b[39m\u001b[23m \"$320,000.00\", \"$320,000.00\", \"$395,000.00\",…\n",
      "$ Sold.Date                 \u001b[3m\u001b[90m<chr>\u001b[39m\u001b[23m \"3/14/22\", \"1/4/22\", \"2/28/22\", \"3/3/22\", \"1…\n",
      "$ Days.on.Market            \u001b[3m\u001b[90m<chr>\u001b[39m\u001b[23m \"7\", \"13\", \"6\", \"85\", \"17\", \"11\", \"146\", \"11…\n",
      "$ Property.Marketing.Period \u001b[3m\u001b[90m<chr>\u001b[39m\u001b[23m \"7\", \"175\", \"6\", \"85\", \"17\", \"11\", \"146\", \"1…\n",
      "$ Price                     \u001b[3m\u001b[90m<int>\u001b[39m\u001b[23m 320000, 320000, 395000, 475000, 590000, 6400…\n"
     ]
    }
   ],
   "source": [
    "dplyr::glimpse(house)"
   ]
  },
  {
   "cell_type": "markdown",
   "metadata": {},
   "source": [
    "# Reference\n",
    "Beatrice Bloom website: https://www.realestate-princeton.com/market-analysis/princeton-pending/\n",
    "\n",
    "CRAN `tidycensus` package: https://walker-data.com/tidycensus/\n",
    "\n",
    "US census data website: https://www.census.gov/data.html"
   ]
  }
 ],
 "metadata": {
  "kernelspec": {
   "display_name": "R",
   "language": "R",
   "name": "ir"
  },
  "language_info": {
   "codemirror_mode": "r",
   "file_extension": ".r",
   "mimetype": "text/x-r-source",
   "name": "R",
   "pygments_lexer": "r",
   "version": "4.0.4"
  },
  "orig_nbformat": 4
 },
 "nbformat": 4,
 "nbformat_minor": 2
}
